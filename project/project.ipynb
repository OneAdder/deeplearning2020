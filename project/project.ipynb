{
 "cells": [
  {
   "cell_type": "code",
   "execution_count": 1,
   "metadata": {},
   "outputs": [],
   "source": [
    "import torch\n",
    "import pandas as pd\n",
    "from torch.utils.data import Dataset, DataLoader\n",
    "from transformers import AutoTokenizer, AutoModel\n",
    "from tqdm import tqdm\n",
    "\n",
    "from collections import defaultdict, namedtuple\n",
    "from sklearn.metrics import accuracy_score, f1_score"
   ]
  },
  {
   "cell_type": "code",
   "execution_count": 2,
   "metadata": {},
   "outputs": [],
   "source": [
    "DEVICE = torch.device('cuda' if torch.cuda.is_available() else 'cpu')"
   ]
  },
  {
   "cell_type": "code",
   "execution_count": 3,
   "metadata": {},
   "outputs": [
    {
     "data": {
      "text/plain": [
       "device(type='cuda')"
      ]
     },
     "execution_count": 3,
     "metadata": {},
     "output_type": "execute_result"
    }
   ],
   "source": [
    "DEVICE"
   ]
  },
  {
   "cell_type": "code",
   "execution_count": 4,
   "metadata": {},
   "outputs": [],
   "source": [
    "tokenizer = AutoTokenizer.from_pretrained(\"bert-base-uncased\")"
   ]
  },
  {
   "cell_type": "code",
   "execution_count": 5,
   "metadata": {},
   "outputs": [],
   "source": [
    "data_df = pd.read_csv('IMDB Dataset.csv')"
   ]
  },
  {
   "cell_type": "code",
   "execution_count": 6,
   "metadata": {},
   "outputs": [],
   "source": [
    "MAX_LEN = 512\n",
    "PAD_INDEX = 0\n",
    "BATCH_SIZE = 16"
   ]
  },
  {
   "cell_type": "code",
   "execution_count": 7,
   "metadata": {},
   "outputs": [],
   "source": [
    "def tokenize(text):\n",
    "    token = torch.tensor(tokenizer(text, truncation=True)['input_ids'])\n",
    "    # колхозные паддинги\n",
    "    padded_token = torch.cat((token, torch.zeros(MAX_LEN - token.shape[0])), 0)\n",
    "    return padded_token"
   ]
  },
  {
   "cell_type": "code",
   "execution_count": 8,
   "metadata": {},
   "outputs": [],
   "source": [
    "data = list(zip(\n",
    "    list(map(tokenize, data_df['review'])),\n",
    "    list(map(lambda sent: 0 if sent == 'negative' else 1, data_df['sentiment'])),\n",
    "))"
   ]
  },
  {
   "cell_type": "code",
   "execution_count": 9,
   "metadata": {},
   "outputs": [
    {
     "name": "stdout",
     "output_type": "stream",
     "text": [
      "45000\n",
      "5000\n"
     ]
    }
   ],
   "source": [
    "train = data[:-5000]\n",
    "print(len(train))\n",
    "test = data[-5000:]\n",
    "print(len(test))"
   ]
  },
  {
   "cell_type": "code",
   "execution_count": 10,
   "metadata": {},
   "outputs": [
    {
     "data": {
      "text/plain": [
       "True"
      ]
     },
     "execution_count": 10,
     "metadata": {},
     "output_type": "execute_result"
    }
   ],
   "source": [
    "# проверяем, что паддинги сработали корректно\n",
    "all(map(lambda t: t[0].shape[0] == MAX_LEN, train))"
   ]
  },
  {
   "cell_type": "code",
   "execution_count": 11,
   "metadata": {},
   "outputs": [],
   "source": [
    "train_loader = DataLoader(train, batch_size=BATCH_SIZE)"
   ]
  },
  {
   "cell_type": "code",
   "execution_count": 12,
   "metadata": {},
   "outputs": [],
   "source": [
    "test_loader = DataLoader(test, batch_size=BATCH_SIZE)"
   ]
  },
  {
   "cell_type": "code",
   "execution_count": 13,
   "metadata": {},
   "outputs": [],
   "source": [
    "model = AutoModel.from_pretrained(\"bert-base-uncased\").to(DEVICE)"
   ]
  },
  {
   "cell_type": "code",
   "execution_count": 14,
   "metadata": {},
   "outputs": [],
   "source": [
    "# нам не нужно, чтобы берт обучался\n",
    "for p in model.parameters():\n",
    "    p.requires_grad = False"
   ]
  },
  {
   "cell_type": "code",
   "execution_count": 16,
   "metadata": {},
   "outputs": [],
   "source": [
    "criterion = torch.nn.CrossEntropyLoss()\n",
    "# [размерность_выхода_берта, количество_классов]\n",
    "classifier = torch.nn.Linear(768, 2).to(DEVICE)\n",
    "optimizer = torch.optim.Adam(classifier.parameters(), lr=1e-3)"
   ]
  },
  {
   "cell_type": "code",
   "execution_count": null,
   "metadata": {},
   "outputs": [
    {
     "name": "stderr",
     "output_type": "stream",
     "text": [
      "\r",
      "  0%|          | 0/2813 [00:00<?, ?it/s]"
     ]
    },
    {
     "name": "stdout",
     "output_type": "stream",
     "text": [
      "Epoch: 0\n"
     ]
    }
   ],
   "source": [
    "metrics = namedtuple(\n",
    "    'M', ['train', 'test']\n",
    ")(defaultdict(list), defaultdict(list))\n",
    "\n",
    "for e in range(3):\n",
    "    print(f'Epoch: {e}')\n",
    "    for x, y in tqdm(train_loader):\n",
    "        x = x.long().to(DEVICE)\n",
    "        y = y.to(DEVICE)\n",
    "        pred = model(x)\n",
    "        pred = classifier(pred.pooler_output)\n",
    "        train_loss = criterion(pred, y)\n",
    "        train_loss.backward()\n",
    "        metrics.train['loss'].append(train_loss.item())\n",
    "        metrics.train['accuracy'].append(\n",
    "            accuracy_score(y.cpu(), torch.argmax(pred, dim=1).cpu())\n",
    "        )\n",
    "        metrics.train['f1'].append(\n",
    "            f1_score(y.cpu(), torch.argmax(pred, dim=1).cpu(), average='micro')\n",
    "        )\n",
    "        optimizer.step()\n",
    "        optimizer.zero_grad()\n",
    "    for x, y in tqdm(test_loader):\n",
    "        x = x.long().to(DEVICE)\n",
    "        y = y.to(DEVICE)\n",
    "        pred = model(x)\n",
    "        pred = classifier(pred.pooler_output)\n",
    "        test_loss = criterion(pred, y)\n",
    "        metrics.test['loss'].append(test_loss.item())\n",
    "        metrics.test['accuracy'].append(\n",
    "            accuracy_score(y.cpu(), torch.argmax(pred, dim=1).cpu())\n",
    "        )\n",
    "        metrics.test['f1'].append(\n",
    "            f1_score(y.cpu(), torch.argmax(pred, dim=1).cpu(), average='weighted')\n",
    "        )\n",
    "    torch.save(classifier.state_dict(), f'epoch_{e}_classifier.pth')"
   ]
  },
  {
   "cell_type": "code",
   "execution_count": 159,
   "metadata": {},
   "outputs": [],
   "source": [
    "torch.save(classifier.state_dict(), 'dfss')"
   ]
  },
  {
   "cell_type": "code",
   "execution_count": 160,
   "metadata": {},
   "outputs": [],
   "source": [
    "classifier = torch.load('dfss')"
   ]
  },
  {
   "cell_type": "code",
   "execution_count": 161,
   "metadata": {},
   "outputs": [
    {
     "data": {
      "text/plain": [
       "OrderedDict([('weight',\n",
       "              tensor([[ 0.0108, -0.0362,  0.0330,  ...,  0.0297,  0.0255,  0.0212],\n",
       "                      [-0.0073,  0.0295, -0.0254,  ...,  0.0102,  0.0287,  0.0038]],\n",
       "                     device='cuda:0')),\n",
       "             ('bias', tensor([ 0.0251, -0.0091], device='cuda:0'))])"
      ]
     },
     "execution_count": 161,
     "metadata": {},
     "output_type": "execute_result"
    }
   ],
   "source": [
    "classifier"
   ]
  },
  {
   "cell_type": "code",
   "execution_count": null,
   "metadata": {},
   "outputs": [],
   "source": []
  }
 ],
 "metadata": {
  "kernelspec": {
   "display_name": "Python 3",
   "language": "python",
   "name": "python3"
  },
  "language_info": {
   "codemirror_mode": {
    "name": "ipython",
    "version": 3
   },
   "file_extension": ".py",
   "mimetype": "text/x-python",
   "name": "python",
   "nbconvert_exporter": "python",
   "pygments_lexer": "ipython3",
   "version": "3.7.3"
  }
 },
 "nbformat": 4,
 "nbformat_minor": 2
}
