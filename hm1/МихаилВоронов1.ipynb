{
 "cells": [
  {
   "cell_type": "code",
   "execution_count": 20,
   "metadata": {},
   "outputs": [],
   "source": [
    "import numpy as np\n",
    "\n",
    "from sklearn.metrics import classification_report\n",
    "\n",
    "import torch\n",
    "from torch.utils.data import DataLoader\n",
    "from torchvision.datasets import MNIST\n",
    "from torchvision import transforms\n",
    "\n",
    "import matplotlib.pyplot as plt\n",
    "\n",
    "from tqdm import tqdm\n",
    "\n",
    "from sklearn.metrics import accuracy_score\n",
    "\n",
    "import time\n",
    "from typing import List"
   ]
  },
  {
   "cell_type": "code",
   "execution_count": 2,
   "metadata": {},
   "outputs": [],
   "source": [
    "transform = transforms.Compose([\n",
    "    transforms.ToTensor(),\n",
    "    transforms.Normalize((0.1307,), (0.3081,))\n",
    "])"
   ]
  },
  {
   "cell_type": "code",
   "execution_count": 3,
   "metadata": {},
   "outputs": [],
   "source": [
    "train_dataset = MNIST('.', train=True, download=True, transform=transform)\n",
    "test_dataset = MNIST('.', train=False, transform=transform)"
   ]
  },
  {
   "cell_type": "code",
   "execution_count": 4,
   "metadata": {},
   "outputs": [],
   "source": [
    "train_dataset.data = train_dataset.data[(train_dataset.targets == 3) | (train_dataset.targets == 7)]\n",
    "train_dataset.targets = train_dataset.targets[(train_dataset.targets == 3) | (train_dataset.targets == 7)]\n",
    "\n",
    "test_dataset.data = test_dataset.data[(test_dataset.targets == 3) | (test_dataset.targets == 7)]\n",
    "test_dataset.targets = test_dataset.targets[(test_dataset.targets == 3) | (test_dataset.targets == 7)]\n",
    "\n",
    "train_dataset.targets = (train_dataset.targets == 7).long()\n",
    "test_dataset.targets = (test_dataset.targets == 7).long()"
   ]
  },
  {
   "cell_type": "code",
   "execution_count": 5,
   "metadata": {},
   "outputs": [],
   "source": [
    "train_loader = DataLoader(train_dataset, batch_size=128, shuffle=True)\n",
    "test_loader = DataLoader(test_dataset, batch_size=128, shuffle=False)"
   ]
  },
  {
   "cell_type": "code",
   "execution_count": 11,
   "metadata": {},
   "outputs": [],
   "source": [
    "# запишем сразу нужные нам функции и их производные\n",
    "# сигмоида\n",
    "sigmoid = lambda x: 1 / (1 + np.exp(-x))\n",
    "sigmoid_x = lambda x: sigmoid(x) * (1-sigmoid(x))\n",
    "# гиперболический тангенс\n",
    "tanh_x = lambda x: 1 - (np.tanh(x) ** 2)"
   ]
  },
  {
   "cell_type": "code",
   "execution_count": 92,
   "metadata": {},
   "outputs": [],
   "source": [
    "INPUT_FEATURES = train_dataset.data.shape[1] * train_dataset.data.shape[2]\n",
    "OUTPUT_FEATURES = 4\n",
    "BATCH_SIZE = 128\n",
    "LEARNING_RATE = 0.01\n",
    "EPOCHS = 5"
   ]
  },
  {
   "cell_type": "code",
   "execution_count": 93,
   "metadata": {},
   "outputs": [
    {
     "name": "stdout",
     "output_type": "stream",
     "text": [
      "Epoch: 1\n",
      "(784, 128)\n"
     ]
    },
    {
     "ename": "ValueError",
     "evalue": "shapes (128,128) and (4,1) not aligned: 128 (dim 1) != 4 (dim 0)",
     "output_type": "error",
     "traceback": [
      "\u001b[0;31m---------------------------------------------------------------------------\u001b[0m",
      "\u001b[0;31mValueError\u001b[0m                                Traceback (most recent call last)",
      "\u001b[0;32m<ipython-input-93-0b7a27b8ce35>\u001b[0m in \u001b[0;36m<module>\u001b[0;34m\u001b[0m\n\u001b[1;32m     20\u001b[0m         \u001b[0mz1\u001b[0m \u001b[0;34m=\u001b[0m \u001b[0mnp\u001b[0m\u001b[0;34m.\u001b[0m\u001b[0mdot\u001b[0m\u001b[0;34m(\u001b[0m\u001b[0mx\u001b[0m\u001b[0;34m,\u001b[0m \u001b[0mw1\u001b[0m\u001b[0;34m)\u001b[0m \u001b[0;34m+\u001b[0m \u001b[0mb1\u001b[0m\u001b[0;34m\u001b[0m\u001b[0;34m\u001b[0m\u001b[0m\n\u001b[1;32m     21\u001b[0m         \u001b[0ma1\u001b[0m \u001b[0;34m=\u001b[0m \u001b[0mnp\u001b[0m\u001b[0;34m.\u001b[0m\u001b[0mtanh\u001b[0m\u001b[0;34m(\u001b[0m\u001b[0mz1\u001b[0m\u001b[0;34m)\u001b[0m\u001b[0;34m\u001b[0m\u001b[0;34m\u001b[0m\u001b[0m\n\u001b[0;32m---> 22\u001b[0;31m         \u001b[0mz2\u001b[0m \u001b[0;34m=\u001b[0m \u001b[0mnp\u001b[0m\u001b[0;34m.\u001b[0m\u001b[0mdot\u001b[0m\u001b[0;34m(\u001b[0m\u001b[0ma1\u001b[0m\u001b[0;34m,\u001b[0m \u001b[0mw2\u001b[0m\u001b[0;34m)\u001b[0m \u001b[0;34m+\u001b[0m \u001b[0mb2\u001b[0m\u001b[0;34m\u001b[0m\u001b[0;34m\u001b[0m\u001b[0m\n\u001b[0m\u001b[1;32m     23\u001b[0m         \u001b[0mpred\u001b[0m \u001b[0;34m=\u001b[0m \u001b[0msigmoid\u001b[0m\u001b[0;34m(\u001b[0m\u001b[0mz2\u001b[0m\u001b[0;34m)\u001b[0m\u001b[0;34m\u001b[0m\u001b[0;34m\u001b[0m\u001b[0m\n\u001b[1;32m     24\u001b[0m \u001b[0;34m\u001b[0m\u001b[0m\n",
      "\u001b[0;31mValueError\u001b[0m: shapes (128,128) and (4,1) not aligned: 128 (dim 1) != 4 (dim 0)"
     ]
    }
   ],
   "source": [
    "w1: np.ndarray = np.random.rand(INPUT_FEATURES, BATCH_SIZE) * LEARNING_RATE\n",
    "b1: float = 0\n",
    "w2: np.ndarray = np.random.rand(OUTPUT_FEATURES, 1) * LEARNING_RATE\n",
    "b2: float = 0\n",
    "\n",
    "losses: List[float] = []\n",
    "\n",
    "for n_epoch in range(EPOCHS):\n",
    "    \n",
    "    print(f'Epoch: {n_epoch + 1}')\n",
    "    \n",
    "    for x, y in train_loader:\n",
    "        \n",
    "        x = x.view(x.shape[0], -1).numpy()\n",
    "        y = np.expand_dims(y.numpy(), 1)\n",
    "        print(w1.shape)\n",
    "        ### КОД СЮДА ###\n",
    "        \n",
    "        # forward\n",
    "        z1 = np.dot(x, w1) + b1\n",
    "        a1 = np.tanh(z1)\n",
    "        z2 = np.dot(a1, w2) + b2\n",
    "        pred = sigmoid(z2)\n",
    "        \n",
    "        # рассчет bce\n",
    "        loss = -np.mean(y*np.log(pred) + (1-y)*np.log(1-pred))\n",
    "        \n",
    "        # не забудьте добавить это значение в массив losses\n",
    "        losses.append(loss)\n",
    "        \n",
    "        # backward\n",
    "        # Считаем производную BCE, сигмоиды и гиперболического тангенса\n",
    "        dloss_dpred = (y / pred) - ((1-pred) / (1-pred))\n",
    "        dpred_dz2 = sigmoid_x(pred)\n",
    "        da1_dz1 = tanh_x(x)\n",
    "        \n",
    "        # Считаем производные, которые нам нужны по пути к весам\n",
    "        dloss_dz2 = np.dot(dloss_dpred, dpred_dz2)\n",
    "        dloss_da1 = np.dot(dloss_dz2, w2)\n",
    "        dloss_dz1 = np.dot(dloss_da1.T, da1_dz1)\n",
    "        \n",
    "        # Производные для весов\n",
    "        dloss_dw2 = np.dot(dloss_dz2, a1)\n",
    "        dloss_db2 = np.mean(dloss_dz2) / BATCH_SIZE\n",
    "        dloss_dw1 = np.dot(dloss_dz1, x)\n",
    "        dloss_db1 = np.mean(dloss_dz1) / BATCH_SIZE\n",
    "        \n",
    "        # gradient descent\n",
    "        print(dloss_dw1.shape)\n",
    "        w1 -= (dloss_dw1 * LEARNING_RATE)\n",
    "        w2 -= (dloss_dw2 * LEARNING_RATE)\n",
    "        b1 -= (dloss_db1 * LEARNING_RATE)\n",
    "        b2 -= (dloss_db2 * LEARNING_RATE)"
   ]
  },
  {
   "cell_type": "code",
   "execution_count": null,
   "metadata": {},
   "outputs": [],
   "source": []
  }
 ],
 "metadata": {
  "kernelspec": {
   "display_name": "Python 3",
   "language": "python",
   "name": "python3"
  },
  "language_info": {
   "codemirror_mode": {
    "name": "ipython",
    "version": 3
   },
   "file_extension": ".py",
   "mimetype": "text/x-python",
   "name": "python",
   "nbconvert_exporter": "python",
   "pygments_lexer": "ipython3",
   "version": "3.7.3"
  }
 },
 "nbformat": 4,
 "nbformat_minor": 2
}
